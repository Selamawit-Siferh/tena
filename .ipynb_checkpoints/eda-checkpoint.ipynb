{
 "cells": [
  {
   "cell_type": "code",
   "execution_count": null,
   "id": "580c86b4-e91f-42ac-9af2-b78b286b2fc1",
   "metadata": {},
   "outputs": [],
   "source": [
    "import pandas as pd\n",
    "import matplotlib.pyplot as plt\n",
    "import seaborn as sns\n",
    "import numpy as np\n"
   ]
  },
  {
   "cell_type": "code",
   "execution_count": null,
   "id": "cd929b84-2ac8-4a95-923f-3d21b7086e2f",
   "metadata": {},
   "outputs": [],
   "source": [
    "    data =pd.read_csv('benin-malanville.csv')\n"
   ]
  },
  {
   "cell_type": "code",
   "execution_count": null,
   "id": "d4fec0b7-9855-4db5-873f-6ad9c04cd014",
   "metadata": {},
   "outputs": [],
   "source": [
    "data.head()"
   ]
  },
  {
   "cell_type": "code",
   "execution_count": null,
   "id": "8395e30b-8db2-4296-a31d-55593db5705e",
   "metadata": {},
   "outputs": [],
   "source": [
    "data.shape"
   ]
  },
  {
   "cell_type": "code",
   "execution_count": null,
   "id": "7ef960f2-a284-4faa-8478-e0607e253937",
   "metadata": {},
   "outputs": [],
   "source": [
    "data.describe()"
   ]
  },
  {
   "cell_type": "code",
   "execution_count": null,
   "id": "0f965b2b-e4ac-4387-87a3-0d51946d0b32",
   "metadata": {
    "scrolled": true
   },
   "outputs": [],
   "source": [
    "data.columns"
   ]
  },
  {
   "cell_type": "code",
   "execution_count": null,
   "id": "ff7afd0e-970d-42fc-93df-ac5a81f70002",
   "metadata": {},
   "outputs": [],
   "source": [
    "data['DHI'].unique()"
   ]
  },
  {
   "cell_type": "code",
   "execution_count": null,
   "id": "a74f1dce-ab07-4ba5-9f76-81eaa9e28b57",
   "metadata": {},
   "outputs": [],
   "source": [
    "data['DNI'].unique()"
   ]
  },
  {
   "cell_type": "code",
   "execution_count": null,
   "id": "612188b2-e0f8-4414-9a0c-4d2c101a4bdf",
   "metadata": {},
   "outputs": [],
   "source": [
    "data['Comments'].unique()"
   ]
  },
  {
   "cell_type": "code",
   "execution_count": null,
   "id": "b78a987d-87b5-4b66-99df-67404308880b",
   "metadata": {},
   "outputs": [],
   "source": [
    "data['Timestamp'].unique()"
   ]
  },
  {
   "cell_type": "code",
   "execution_count": null,
   "id": "3c6327f7-e554-4b0f-9332-5a4e597d85f3",
   "metadata": {},
   "outputs": [],
   "source": [
    "data.isnull()\n",
    "data.isnull().sum()\n"
   ]
  },
  {
   "cell_type": "code",
   "execution_count": 4,
   "id": "bcd04e5e-2e4a-46d4-821f-1668f0ba61d0",
   "metadata": {},
   "outputs": [
    {
     "ename": "NameError",
     "evalue": "name 'data' is not defined",
     "output_type": "error",
     "traceback": [
      "\u001b[1;31m---------------------------------------------------------------------------\u001b[0m",
      "\u001b[1;31mNameError\u001b[0m                                 Traceback (most recent call last)",
      "Cell \u001b[1;32mIn[4], line 1\u001b[0m\n\u001b[1;32m----> 1\u001b[0m threshold \u001b[38;5;241m=\u001b[39m \u001b[38;5;28mlen\u001b[39m(\u001b[43mdata\u001b[49m) \u001b[38;5;241m*\u001b[39m \u001b[38;5;241m0.5\u001b[39m\n\u001b[0;32m      2\u001b[0m data_cleaned \u001b[38;5;241m=\u001b[39m data\u001b[38;5;241m.\u001b[39mdropna(axis\u001b[38;5;241m=\u001b[39m\u001b[38;5;241m1\u001b[39m, thresh\u001b[38;5;241m=\u001b[39mthreshold)\n",
      "\u001b[1;31mNameError\u001b[0m: name 'data' is not defined"
     ]
    }
   ],
   "source": [
    "threshold = len(data) * 0.5\n",
    "data_cleaned = data.dropna(axis=1, thresh=threshold)"
   ]
  },
  {
   "cell_type": "code",
   "execution_count": 3,
   "id": "d333aa5d-0816-4c03-b254-22734d97f867",
   "metadata": {},
   "outputs": [
    {
     "ename": "NameError",
     "evalue": "name 'data' is not defined",
     "output_type": "error",
     "traceback": [
      "\u001b[1;31m---------------------------------------------------------------------------\u001b[0m",
      "\u001b[1;31mNameError\u001b[0m                                 Traceback (most recent call last)",
      "Cell \u001b[1;32mIn[3], line 1\u001b[0m\n\u001b[1;32m----> 1\u001b[0m data \u001b[38;5;241m=\u001b[39m \u001b[43mdata\u001b[49m\u001b[38;5;241m.\u001b[39mdrop([\u001b[38;5;124m'\u001b[39m\u001b[38;5;124mComments\u001b[39m\u001b[38;5;124m'\u001b[39m], axis\u001b[38;5;241m=\u001b[39m\u001b[38;5;241m1\u001b[39m)\n\u001b[0;32m      2\u001b[0m data\u001b[38;5;241m.\u001b[39mhead()\n",
      "\u001b[1;31mNameError\u001b[0m: name 'data' is not defined"
     ]
    }
   ],
   "source": [
    "data = data.drop(['Comments'], axis=1)\n",
    "data.head()"
   ]
  },
  {
   "cell_type": "code",
   "execution_count": null,
   "id": "8cb97f68-1e84-4474-9039-e94e62f79fab",
   "metadata": {},
   "outputs": [],
   "source": []
  }
 ],
 "metadata": {
  "kernelspec": {
   "display_name": "Python 3 (ipykernel)",
   "language": "python",
   "name": "python3"
  },
  "language_info": {
   "codemirror_mode": {
    "name": "ipython",
    "version": 3
   },
   "file_extension": ".py",
   "mimetype": "text/x-python",
   "name": "python",
   "nbconvert_exporter": "python",
   "pygments_lexer": "ipython3",
   "version": "3.12.3"
  }
 },
 "nbformat": 4,
 "nbformat_minor": 5
}
